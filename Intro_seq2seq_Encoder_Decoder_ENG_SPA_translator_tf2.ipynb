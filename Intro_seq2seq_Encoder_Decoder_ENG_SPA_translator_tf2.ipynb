{
  "nbformat": 4,
  "nbformat_minor": 0,
  "metadata": {
    "colab": {
      "name": "Intro-seq2seq-Encoder-Decoder-ENG-SPA-translator-tf2.ipynb",
      "provenance": [],
      "collapsed_sections": [],
      "authorship_tag": "ABX9TyM4qTIQ1iggKyGCKa9DDf9w"
    },
    "kernelspec": {
      "name": "python3",
      "display_name": "Python 3"
    },
    "language_info": {
      "name": "python"
    },
    "accelerator": "GPU"
  },
  "cells": [
    {
      "cell_type": "code",
      "metadata": {
        "id": "NxN3SAgJG5Wb"
      },
      "source": [
        "import os\n",
        "import gc\n",
        "import time\n",
        "import re\n",
        "import unicodedata\n",
        "\n",
        "import pandas as pd\n",
        "import numpy as np\n",
        "import matplotlib.pyplot as plt\n",
        "%matplotlib inline"
      ],
      "execution_count": null,
      "outputs": []
    },
    {
      "cell_type": "code",
      "metadata": {
        "id": "lD37ydPpHRlr"
      },
      "source": [
        "#Importing libraries\n",
        "import tensorflow as tf\n",
        "from tensorflow.keras import backend as K\n",
        "\n",
        "from keras.preprocessing.text import Tokenizer\n",
        "from keras.preprocessing.sequence import pad_sequences"
      ],
      "execution_count": null,
      "outputs": []
    },
    {
      "cell_type": "code",
      "metadata": {
        "id": "UPBMauL4HUfU"
      },
      "source": [
        "# Global parameters\n",
        "#root folder\n",
        "root_folder='.'\n",
        "#data_folder='.'\n",
        "#data_folder_name='content'\n",
        "train_filename='spa.txt'\n",
        "\n",
        "# Variable for data directory\n",
        "DATA_PATH = os.path.abspath(os.path.join(root_folder))\n",
        "train_filenamepath = os.path.abspath(os.path.join(DATA_PATH, train_filename))\n",
        "\n",
        "# Both train and test set are in the root data directory\n",
        "train_path = DATA_PATH\n",
        "test_path = DATA_PATH"
      ],
      "execution_count": null,
      "outputs": []
    },
    {
      "cell_type": "code",
      "metadata": {
        "id": "vSPiAh_xHuLi"
      },
      "source": [
        "# Parameters for our model\n",
        "INPUT_COLUMN = 'input'\n",
        "TARGET_COLUMN = 'target'\n",
        "TARGET_FOR_INPUT = 'target_for_input'\n",
        "NUM_SAMPLES = 20000 #40000\n",
        "MAX_VOCAB_SIZE = 20000\n",
        "EMBEDDING_DIM = 128\n",
        "HIDDEN_DIM=1024 #512\n",
        "\n",
        "BATCH_SIZE = 64  # Batch size for training.\n",
        "EPOCHS = 15  # Number of epochs to train for.\n",
        "\n",
        "ATTENTION_FUNC='general'"
      ],
      "execution_count": null,
      "outputs": []
    },
    {
      "cell_type": "code",
      "metadata": {
        "id": "P0fuXyX_HxPX"
      },
      "source": [
        "# Some function to preprocess the text data, taken from the Neural machine translation with attention tutorial\n",
        "# in Tensorflow\n",
        "def unicode_to_ascii(s):\n",
        "    return ''.join(c for c in unicodedata.normalize('NFD', s)\n",
        "        if unicodedata.category(c) != 'Mn')\n",
        "\n",
        "def preprocess_sentence(w):\n",
        "    ''' Preprocess the input text w applying lowercase, removing accents, \n",
        "    creating a space between a word and the punctuation following it and \n",
        "    replacing everything with space except (a-z, A-Z, \".\", \"?\", \"!\", \",\")\n",
        "    Input:\n",
        "        - w: a string, input text\n",
        "    Output:\n",
        "        - a string, the cleaned text\n",
        "    '''\n",
        "    w = unicode_to_ascii(w.lower().strip())\n",
        "\n",
        "    # creating a space between a word and the punctuation following it\n",
        "    # eg: \"he is a boy.\" => \"he is a boy .\"\n",
        "    # Reference:- https://stackoverflow.com/questions/3645931/python-padding-punctuation-with-white-spaces-keeping-punctuation\n",
        "    w = re.sub(r\"([?.!,¿])\", r\" \\1 \", w)\n",
        "    w = re.sub(r'[\" \"]+', \" \", w)\n",
        "\n",
        "    # replacing everything with space except (a-z, A-Z, \".\", \"?\", \"!\", \",\")\n",
        "    w = re.sub(r\"[^a-zA-Z?.!,¿]+\", \" \", w)\n",
        "\n",
        "    w = w.strip()\n",
        "\n",
        "    # adding a start and an end token to the sentence\n",
        "    # so that the model know when to start and stop predicting.\n",
        "    #w = '<start> ' + w + ' <end>'\n",
        "    \n",
        "    return w"
      ],
      "execution_count": null,
      "outputs": []
    },
    {
      "cell_type": "code",
      "metadata": {
        "colab": {
          "base_uri": "https://localhost:8080/"
        },
        "id": "CLJRWTigIRfw",
        "outputId": "3e3608eb-b19d-4697-b52e-54182b29787f"
      },
      "source": [
        "# Load the dataset: sentence in english, sentence in spanish \n",
        "df=pd.read_csv(train_filenamepath, sep=\"\\t\", header=None, names=[INPUT_COLUMN,TARGET_COLUMN], usecols=[0,1], \n",
        "               nrows=NUM_SAMPLES)\n",
        "# Preprocess the input data\n",
        "input_data=df[INPUT_COLUMN].apply(lambda x : preprocess_sentence(x)).tolist()\n",
        "# Preprocess and include the end of sentence token to the target text\n",
        "target_data=df[TARGET_COLUMN].apply(lambda x : preprocess_sentence(x)+ ' <eos>').tolist()\n",
        "# Preprocess and include a start of setence token to the input text to the decoder, it is rigth shifted\n",
        "target_input_data=df[TARGET_COLUMN].apply(lambda x : '<sos> '+ preprocess_sentence(x)).tolist()\n",
        "\n",
        "print(input_data[15000])\n",
        "print(target_data[15000])\n",
        "print(target_input_data[15000])"
      ],
      "execution_count": null,
      "outputs": [
        {
          "output_type": "stream",
          "text": [
            "she didn t answer .\n",
            "ella no respondio . <eos>\n",
            "<sos> ella no respondio .\n"
          ],
          "name": "stdout"
        }
      ]
    },
    {
      "cell_type": "code",
      "metadata": {
        "colab": {
          "base_uri": "https://localhost:8080/"
        },
        "id": "5UCS81Q2Jkhz",
        "outputId": "a082105a-5524-4e50-9d35-27ebdfe5d571"
      },
      "source": [
        "#See why we use filter\n",
        "dummy=['I am Raj .']\n",
        "t=Tokenizer()\n",
        "t.fit_on_texts(dummy)\n",
        "t.texts_to_sequences(dummy)"
      ],
      "execution_count": null,
      "outputs": [
        {
          "output_type": "execute_result",
          "data": {
            "text/plain": [
              "[[1, 2, 3]]"
            ]
          },
          "metadata": {
            "tags": []
          },
          "execution_count": 7
        }
      ]
    },
    {
      "cell_type": "code",
      "metadata": {
        "colab": {
          "base_uri": "https://localhost:8080/"
        },
        "id": "D_ARdGKTI9bR",
        "outputId": "59c605f3-c6c0-41ac-ac4b-1d4ddc2d2e35"
      },
      "source": [
        "# Create a tokenizer for the input texts and fit it to them \n",
        "tokenizer_inputs = Tokenizer(num_words=MAX_VOCAB_SIZE, filters='')\n",
        "tokenizer_inputs.fit_on_texts(input_data)\n",
        "# Tokenize and transform input texts to sequence of integers\n",
        "input_sequences = tokenizer_inputs.texts_to_sequences(input_data)\n",
        "# Claculate the max length\n",
        "input_max_len = max(len(s) for s in input_sequences)\n",
        "print('Max Input Length: ', input_max_len)\n",
        "# Show some example of tokenize sentences, useful to check the tokenization\n",
        "print(input_data[15000])\n",
        "print(input_sequences[15000])"
      ],
      "execution_count": null,
      "outputs": [
        {
          "output_type": "stream",
          "text": [
            "Max Input Length:  8\n",
            "she didn t answer .\n",
            "[27, 90, 10, 238, 1]\n"
          ],
          "name": "stdout"
        }
      ]
    },
    {
      "cell_type": "code",
      "metadata": {
        "colab": {
          "base_uri": "https://localhost:8080/"
        },
        "id": "1zc4QD8DKU_S",
        "outputId": "4c3ce4b9-22c3-4b8d-ce5f-92acfc98f925"
      },
      "source": [
        "# tokenize the outputs\n",
        "# don't filter out special characters (filters = '')\n",
        "# otherwise <sos> and <eos> won't appear\n",
        "# By default, Keras’ Tokenizer will trim out all the punctuations, which is not what we want. \n",
        "# we can just set filters as blank here.\n",
        "\n",
        "# Create a tokenizer for the output texts and fit it to them \n",
        "tokenizer_outputs = Tokenizer(num_words=MAX_VOCAB_SIZE, filters='')\n",
        "tokenizer_outputs.fit_on_texts(target_data)\n",
        "tokenizer_outputs.fit_on_texts(target_input_data)\n",
        "# Tokenize and transform output texts to sequence of integers\n",
        "target_sequences = tokenizer_outputs.texts_to_sequences(target_data)\n",
        "target_sequences_inputs = tokenizer_outputs.texts_to_sequences(target_input_data)\n",
        "\n",
        "# determine maximum length output sequence\n",
        "target_max_len = max(len(s) for s in target_sequences)\n",
        "print('Max Target Length: ', target_max_len)\n",
        "\n",
        "print(target_data[15000])\n",
        "print(target_sequences[15000])\n",
        "print(target_input_data[15000])\n",
        "print(target_sequences_inputs[15000])"
      ],
      "execution_count": null,
      "outputs": [
        {
          "output_type": "stream",
          "text": [
            "Max Target Length:  15\n",
            "ella no respondio . <eos>\n",
            "[29, 8, 831, 1, 2]\n",
            "<sos> ella no respondio .\n",
            "[3, 29, 8, 831, 1]\n"
          ],
          "name": "stdout"
        }
      ]
    },
    {
      "cell_type": "code",
      "metadata": {
        "colab": {
          "base_uri": "https://localhost:8080/"
        },
        "id": "JE1VVwXMKp4a",
        "outputId": "1dca3f5d-b57d-40e3-b7db-333aa223963c"
      },
      "source": [
        "# get the word to index mapping for input language\n",
        "word2idx_inputs = tokenizer_inputs.word_index\n",
        "print('Found %s unique input tokens.' % len(word2idx_inputs))\n",
        "\n",
        "# get the word to index mapping for output language\n",
        "word2idx_outputs = tokenizer_outputs.word_index\n",
        "print('Found %s unique output tokens.' % len(word2idx_outputs))\n",
        "\n",
        "# store number of output and input words for later\n",
        "# remember to add 1 since indexing starts at 1\n",
        "num_words_output = len(word2idx_outputs) + 1\n",
        "num_words_inputs = len(word2idx_inputs) + 1\n",
        "\n",
        "# map indexes back into real words\n",
        "# so we can view the results\n",
        "idx2word_inputs = {v:k for k, v in word2idx_inputs.items()}\n",
        "idx2word_outputs = {v:k for k, v in word2idx_outputs.items()}"
      ],
      "execution_count": null,
      "outputs": [
        {
          "output_type": "stream",
          "text": [
            "Found 3664 unique input tokens.\n",
            "Found 7168 unique output tokens.\n"
          ],
          "name": "stdout"
        }
      ]
    },
    {
      "cell_type": "code",
      "metadata": {
        "colab": {
          "base_uri": "https://localhost:8080/"
        },
        "id": "Er_amVJOLO_8",
        "outputId": "1c8e5cb2-1ee9-4fe5-fb45-9edb2779ff21"
      },
      "source": [
        "# pad the input sequences\n",
        "encoder_inputs = pad_sequences(input_sequences, maxlen=input_max_len, padding='post')\n",
        "print(\"encoder_inputs.shape:\", encoder_inputs.shape)\n",
        "print(\"encoder_inputs[0]:\", encoder_inputs[0])\n",
        "# pad the decoder input sequences\n",
        "decoder_inputs = pad_sequences(target_sequences_inputs, maxlen=target_max_len, padding='post')\n",
        "print(\"decoder_inputs[0]:\", decoder_inputs[0])\n",
        "print(\"decoder_inputs.shape:\", decoder_inputs.shape)\n",
        "# pad the target output sequences\n",
        "decoder_targets = pad_sequences(target_sequences, maxlen=target_max_len, padding='post')"
      ],
      "execution_count": null,
      "outputs": [
        {
          "output_type": "stream",
          "text": [
            "encoder_inputs.shape: (20000, 8)\n",
            "encoder_inputs[0]: [31  1  0  0  0  0  0  0]\n",
            "decoder_inputs[0]: [ 3 99  1  0  0  0  0  0  0  0  0  0  0  0  0]\n",
            "decoder_inputs.shape: (20000, 15)\n"
          ],
          "name": "stdout"
        }
      ]
    },
    {
      "cell_type": "code",
      "metadata": {
        "colab": {
          "base_uri": "https://localhost:8080/"
        },
        "id": "X0YjwUzkLznb",
        "outputId": "a0b99cec-b3e9-40bb-9f90-bd86e3006620"
      },
      "source": [
        "len(input_data)==len(target_data)==len(target_input_data)"
      ],
      "execution_count": null,
      "outputs": [
        {
          "output_type": "execute_result",
          "data": {
            "text/plain": [
              "True"
            ]
          },
          "metadata": {
            "tags": []
          },
          "execution_count": 12
        }
      ]
    },
    {
      "cell_type": "markdown",
      "metadata": {
        "id": "pUVqqAYcOHzx"
      },
      "source": [
        "**Max_len of target data & target_input data is the same since each has eos OR sos**\n"
      ]
    },
    {
      "cell_type": "code",
      "metadata": {
        "colab": {
          "base_uri": "https://localhost:8080/"
        },
        "id": "ClN7A3KnMEfI",
        "outputId": "a1a99faa-4252-4212-b6f1-3214c322112f"
      },
      "source": [
        "# Define a dataset \n",
        "dataset = tf.data.Dataset.from_tensor_slices((encoder_inputs, decoder_inputs, decoder_targets))\n",
        "for element in dataset:\n",
        "  print(element)\n",
        "  print(len(element))\n",
        "  print(type(element[0]))\n",
        "  print(type(element[1]))\n",
        "  print(type(element[2]))\n",
        "  break\n",
        "#Just to see what the generator gives"
      ],
      "execution_count": null,
      "outputs": [
        {
          "output_type": "stream",
          "text": [
            "(<tf.Tensor: shape=(8,), dtype=int32, numpy=array([31,  1,  0,  0,  0,  0,  0,  0], dtype=int32)>, <tf.Tensor: shape=(15,), dtype=int32, numpy=\n",
            "array([ 3, 99,  1,  0,  0,  0,  0,  0,  0,  0,  0,  0,  0,  0,  0],\n",
            "      dtype=int32)>, <tf.Tensor: shape=(15,), dtype=int32, numpy=\n",
            "array([99,  1,  2,  0,  0,  0,  0,  0,  0,  0,  0,  0,  0,  0,  0],\n",
            "      dtype=int32)>)\n",
            "3\n",
            "<class 'tensorflow.python.framework.ops.EagerTensor'>\n",
            "<class 'tensorflow.python.framework.ops.EagerTensor'>\n",
            "<class 'tensorflow.python.framework.ops.EagerTensor'>\n"
          ],
          "name": "stdout"
        }
      ]
    },
    {
      "cell_type": "code",
      "metadata": {
        "id": "CPxzPMpILn5T"
      },
      "source": [
        "dataset = dataset.shuffle(len(input_data)).batch(BATCH_SIZE, drop_remainder=True)\n",
        "#Drop remainder=True drops batches with size < batch_size"
      ],
      "execution_count": null,
      "outputs": []
    },
    {
      "cell_type": "code",
      "metadata": {
        "id": "UjQ83-BcRhON"
      },
      "source": [
        "class Encoder(tf.keras.Model):\n",
        "  def __init__(self,vocab_size,embedding_dim,hidden_dim):\n",
        "    super(Encoder, self).__init__()\n",
        "    self.hidden_dim = hidden_dim\n",
        "    # Define the embedding layer\n",
        "    self.embedding = tf.keras.layers.Embedding(vocab_size, embedding_dim)\n",
        "    # Define the RNN layer, LSTM\n",
        "    self.lstm=tf.keras.layers.LSTM(hidden_dim,return_sequences=True,return_state=True)\n",
        "\n",
        "  def call(self,input_sequence,states):\n",
        "    #Embed input sequence\n",
        "    embed=self.embedding(input_sequence) \n",
        "    #LSTM\n",
        "    output, state_h, state_c = self.lstm(embed, initial_state=states) #h-memory c-carry\n",
        "    return output, state_h, state_c\n",
        "\n",
        "  def init_states(self, batch_size):\n",
        "    # Return a all 0s initial states\n",
        "    return (tf.zeros([batch_size, self.hidden_dim]),tf.zeros([batch_size, self.hidden_dim]))"
      ],
      "execution_count": null,
      "outputs": []
    },
    {
      "cell_type": "code",
      "metadata": {
        "id": "qSkwfRnSVFqb"
      },
      "source": [
        "class Decoder(tf.keras.Model):\n",
        "  def __init__(self,vocab_size,embedding_dim,hidden_dim):\n",
        "    super(Decoder,self).__init__()\n",
        "    self.hidden_dim=hidden_dim\n",
        "    self.embedding=tf.keras.layers.Embedding(vocab_size,embedding_dim)\n",
        "    self.lstm=tf.keras.layers.LSTM(hidden_dim,return_sequences=True,return_state=True)\n",
        "    self.dense=tf.keras.layers.Dense(vocab_size)\n",
        "\n",
        "  def call(self,input_sequence,state_tuple):\n",
        "    embed=self.embedding(input_sequence)\n",
        "    lstm_out,state_h,state_c=self.lstm(embed, initial_state=state_tuple)\n",
        "    logits=self.dense(lstm_out) #Softmax is covered in the loss function\n",
        "    return logits, state_h, state_c"
      ],
      "execution_count": null,
      "outputs": []
    },
    {
      "cell_type": "code",
      "metadata": {
        "colab": {
          "base_uri": "https://localhost:8080/"
        },
        "id": "qgIm2gQhY03u",
        "outputId": "2eb87aaf-fdd2-4fd1-c2e9-848ea07557f1"
      },
      "source": [
        "print(\"Embedding dimension \"+str(EMBEDDING_DIM))\n",
        "print(\"Hidden dimension \"+str(HIDDEN_DIM))\n",
        "print(\"Batch Size \"+str(BATCH_SIZE))"
      ],
      "execution_count": null,
      "outputs": [
        {
          "output_type": "stream",
          "text": [
            "Embedding dimension 128\n",
            "Hidden dimension 1024\n",
            "Batch Size 64\n"
          ],
          "name": "stdout"
        }
      ]
    },
    {
      "cell_type": "code",
      "metadata": {
        "colab": {
          "base_uri": "https://localhost:8080/"
        },
        "id": "L1npsOPqX-Fh",
        "outputId": "45298ae1-a3d8-4314-a336-8e7d072d3161"
      },
      "source": [
        "#Set the length of the input and output vocabulary\n",
        "num_words_inputs = len(word2idx_inputs) + 1\n",
        "num_words_outputs = len(word2idx_outputs) + 1\n",
        "\n",
        "encoder=Encoder(num_words_inputs,EMBEDDING_DIM,HIDDEN_DIM)\n",
        "\n",
        "initial_states = encoder.init_states(1) # 1 X 1024 (HIDDEN_DIM). All zeroes\n",
        "\n",
        "test_encoder_output = encoder(tf.constant([[1, 23, 4, 5, 0, 0]]), initial_states) \n",
        "\n",
        "#  Outputs  Note 1 is batch size here \n",
        "\n",
        "# 0 For each unit an output hence in total 1 X Len(sentence) X HIDDEN_DIM\n",
        "# 1 H-memory 1 X HIDDEN_DIM\n",
        "# 2 C-memory 1 X HIDDEN_DIM\n",
        "\n",
        "decoder=Decoder(num_words_outputs,EMBEDDING_DIM,HIDDEN_DIM)\n",
        "\n",
        "de_initial_state = test_encoder_output[1:] # H-memory & C-cell\n",
        "\n",
        "test_decoder_output= decoder(tf.constant([[1, 3, 5, 7, 9, 0, 0, 0]]), de_initial_state)\n",
        "\n",
        "test_decoder_output\n",
        "#  Outputs  Note 1 is batch size here \n",
        "\n",
        "# 0 For each unit, for each word in vocab (7169 size) a probability thus batch_size X len_seq X vocab_size (output)\n",
        "# 1 H-memory 1 X HIDDEN_DIM\n",
        "# 2 C-memory 1 X HIDDEN_DIM"
      ],
      "execution_count": null,
      "outputs": [
        {
          "output_type": "execute_result",
          "data": {
            "text/plain": [
              "(<tf.Tensor: shape=(1, 8, 7169), dtype=float32, numpy=\n",
              " array([[[-4.04566992e-04,  5.19503490e-04, -1.17333536e-03, ...,\n",
              "           1.58224604e-04, -1.00036981e-04,  5.48863900e-04],\n",
              "         [ 2.15832493e-04,  1.10919448e-03,  3.70422029e-04, ...,\n",
              "          -9.07719368e-04, -7.68146478e-04, -7.54896319e-05],\n",
              "         [-1.14746613e-03, -6.87731081e-04,  4.57326707e-04, ...,\n",
              "          -7.59541232e-04, -5.80560532e-04,  6.96882256e-04],\n",
              "         ...,\n",
              "         [ 7.70280836e-04,  1.20207784e-04,  2.62988871e-03, ...,\n",
              "           2.49486812e-03,  5.82972425e-04, -6.23692409e-04],\n",
              "         [ 7.23346020e-04, -7.53483037e-04,  3.61467362e-03, ...,\n",
              "           2.81398301e-03,  7.40127522e-04, -1.29450881e-03],\n",
              "         [ 6.12227712e-04, -1.35662372e-03,  4.24091518e-03, ...,\n",
              "           2.87981145e-03,  1.01710996e-03, -1.90637144e-03]]],\n",
              "       dtype=float32)>, <tf.Tensor: shape=(1, 1024), dtype=float32, numpy=\n",
              " array([[-0.00328511,  0.00129661,  0.00262227, ...,  0.00178338,\n",
              "         -0.00297731, -0.0049003 ]], dtype=float32)>, <tf.Tensor: shape=(1, 1024), dtype=float32, numpy=\n",
              " array([[-0.00656057,  0.00258531,  0.00523317, ...,  0.00356858,\n",
              "         -0.00596376, -0.00985877]], dtype=float32)>)"
            ]
          },
          "metadata": {
            "tags": []
          },
          "execution_count": 18
        }
      ]
    },
    {
      "cell_type": "code",
      "metadata": {
        "id": "yw4PBnJfnK0w"
      },
      "source": [
        "def loss_func(targets,logits):\n",
        "  #SparseCategoicalCrossentropy doesn't require targets to be one hot encoded & is more efficient than categorical cross entropy when num_classes is huge\n",
        "  crossentropy=tf.keras.losses.SparseCategoricalCrossentropy(from_logits=True) #If from_logits=True no need to apply softmax in dense layer\n",
        "  #Masking\n",
        "  mask = tf.math.logical_not(tf.math.equal(targets, 0))\n",
        "  mask = tf.cast(mask, dtype=tf.int64) #Convert boolean to int\n",
        "  loss = crossentropy(targets, logits, sample_weight=mask)\n",
        "  return loss\n",
        "\n",
        "def accuracy_fn(y_true, y_pred):\n",
        "    # y_pred shape is batch_size, max length, vocab size\n",
        "    # y_true shape is batch_size, max length\n",
        "    pred_values = K.cast(K.argmax(y_pred, axis=-1), dtype='int32') #returns batch_size,max length\n",
        "    correct = K.cast(K.equal(y_true, pred_values), dtype='float32')\n",
        "\n",
        "    # 0 is padding, don't include those\n",
        "    mask = K.cast(K.greater(y_true, 0), dtype='float32') #Shape batch_size,max len \n",
        "    n_correct = K.sum(mask * correct)  #Sums across all axes if not specified, thus shape is ()\n",
        "    n_total = K.sum(mask) #Real length of sequences in entire batch\n",
        "  \n",
        "    return n_correct / n_total\n",
        "\n",
        "#Here the accuracy took sum (correctly_predicted tokens in a batch) / sum(total tokens in that batch )\n"
      ],
      "execution_count": null,
      "outputs": []
    },
    {
      "cell_type": "code",
      "metadata": {
        "id": "PaiIopOxsB14"
      },
      "source": [
        "# Use the @tf.function decorator to take advance of static graph computation\n",
        "@tf.function\n",
        "\n",
        "#TRAINS 1 BATCH\n",
        "\n",
        "def train_step(input_seq, target_seq_in, target_seq_out, en_initial_states, optimizer):\n",
        "    ''' A training step, train a batch of the data and return the loss value reached\n",
        "        Input:\n",
        "        - input_seq: array of integers, shape [batch_size, max_seq_len].\n",
        "            the input sequence\n",
        "        - target_seq_out: array of integers, shape [batch_size, max_seq_len].\n",
        "            the target seq, our target sequence\n",
        "        - target_seq_in: array of integers, shape [batch_size, max_seq_len].\n",
        "            the input sequence to the decoder, we use Teacher Forcing\n",
        "        - en_initial_states: tuple of 2 arrays of shape [batch_size, hidden_dim] each.\n",
        "            the initial state of the encoder\n",
        "        - optimizer: a tf.keras.optimizers.\n",
        "        Output:\n",
        "        - loss: loss value\n",
        "        \n",
        "    '''\n",
        "    # Network’s computations need to be put under tf.GradientTape() to keep track of gradients\n",
        "    with tf.GradientTape() as tape:\n",
        "        # Get the encoder outputs\n",
        "        en_outputs = encoder(input_seq, en_initial_states)\n",
        "        # Set the encoder and decoder states\n",
        "        de_states = en_outputs[1:]\n",
        "        # Get the encoder outputs\n",
        "        de_outputs = decoder(target_seq_in, de_states)\n",
        "        # Take the actual output\n",
        "        logits = de_outputs[0]\n",
        "        # Calculate the loss function\n",
        "        loss = loss_func(target_seq_out, logits)\n",
        "        acc = accuracy_fn(target_seq_out, logits)\n",
        "\n",
        "    variables = encoder.trainable_variables + decoder.trainable_variables\n",
        "    # Calculate the gradients for the variables\n",
        "    gradients = tape.gradient(loss, variables)\n",
        "    # Apply the gradients and update the optimizer\n",
        "    optimizer.apply_gradients(zip(gradients, variables))\n",
        "\n",
        "    return loss, acc"
      ],
      "execution_count": null,
      "outputs": []
    },
    {
      "cell_type": "code",
      "metadata": {
        "colab": {
          "base_uri": "https://localhost:8080/"
        },
        "id": "8WtnwAhxuwFW",
        "outputId": "4bc02752-2437-4fa0-c716-1bbf09dc25be"
      },
      "source": [
        "dataset.take(-1)"
      ],
      "execution_count": null,
      "outputs": [
        {
          "output_type": "execute_result",
          "data": {
            "text/plain": [
              "<TakeDataset shapes: ((64, 8), (64, 15), (64, 15)), types: (tf.int32, tf.int32, tf.int32)>"
            ]
          },
          "metadata": {
            "tags": []
          },
          "execution_count": 21
        }
      ]
    },
    {
      "cell_type": "code",
      "metadata": {
        "id": "7hFQbHmAt-6T"
      },
      "source": [
        "# Create the main train function\n",
        "def main_train(encoder, decoder, dataset, n_epochs, batch_size, optimizer, checkpoint, checkpoint_prefix):\n",
        "    '''\n",
        "    dataset is of type tensorflow.python.data.ops.dataset_ops.BatchDataset \n",
        "    '''\n",
        "    \n",
        "    losses = []\n",
        "    accuracies = []\n",
        "\n",
        "    for e in range(n_epochs):\n",
        "        # Get the initial time\n",
        "        start = time.time()\n",
        "        # Get the initial state for the encoder\n",
        "        en_initial_states = encoder.init_states(batch_size)\n",
        "        # For every batch data\n",
        "        for batch, (input_seq, target_seq_in, target_seq_out) in enumerate(dataset.take(-1)):\n",
        "            # Train and get the loss value \n",
        "            loss, accuracy = train_step(input_seq, target_seq_in, target_seq_out, en_initial_states, optimizer)\n",
        "        \n",
        "            if batch % 100 == 0:\n",
        "                # Store the loss and accuracy values\n",
        "                losses.append(loss)\n",
        "                accuracies.append(accuracy)\n",
        "                print('Epoch {} Batch {} Loss {:.4f} Acc:{:.4f}'.format(e + 1, batch, loss.numpy(), accuracy.numpy()))\n",
        "                \n",
        "        # saving (checkpoint) the model every 2 epochs\n",
        "        if (e + 1) % 2 == 0:\n",
        "            checkpoint.save(file_prefix = checkpoint_prefix)\n",
        "    \n",
        "        print('Time taken for 1 epoch {:.4f} sec\\n'.format(time.time() - start))\n",
        "        \n",
        "    return losses, accuracies"
      ],
      "execution_count": null,
      "outputs": []
    },
    {
      "cell_type": "code",
      "metadata": {
        "colab": {
          "base_uri": "https://localhost:8080/"
        },
        "id": "0Dm9ckXrwfeh",
        "outputId": "94d74b6f-1e60-48d9-d8c0-994c91e0c67b"
      },
      "source": [
        "# Create an Adam optimizer and clips gradients by norm\n",
        "optimizer = tf.keras.optimizers.Adam(clipnorm=5.0)\n",
        "# Create a checkpoint object to save the model\n",
        "checkpoint_dir = './training_ckpt_seq2seq'\n",
        "checkpoint_prefix = os.path.join(checkpoint_dir, \"ckpt\")\n",
        "checkpoint = tf.train.Checkpoint(optimizer=optimizer,\n",
        "                                 encoder=encoder,\n",
        "                                 decoder=decoder)\n",
        "\n",
        "losses, accuracies = main_train(encoder, decoder, dataset, EPOCHS, BATCH_SIZE, optimizer, checkpoint, checkpoint_prefix)"
      ],
      "execution_count": null,
      "outputs": [
        {
          "output_type": "stream",
          "text": [
            "Epoch 1 Batch 0 Loss 3.4956 Acc:0.0000\n",
            "Epoch 1 Batch 100 Loss 1.6029 Acc:0.3629\n",
            "Epoch 1 Batch 200 Loss 1.3605 Acc:0.4370\n",
            "Epoch 1 Batch 300 Loss 1.3823 Acc:0.4330\n",
            "Time taken for 1 epoch 20.1441 sec\n",
            "\n",
            "Epoch 2 Batch 0 Loss 1.2708 Acc:0.4497\n",
            "Epoch 2 Batch 100 Loss 1.2139 Acc:0.4839\n",
            "Epoch 2 Batch 200 Loss 1.0914 Acc:0.5029\n",
            "Epoch 2 Batch 300 Loss 1.1422 Acc:0.4942\n",
            "Time taken for 1 epoch 18.6883 sec\n",
            "\n",
            "Epoch 3 Batch 0 Loss 1.0137 Acc:0.5149\n",
            "Epoch 3 Batch 100 Loss 1.0130 Acc:0.5198\n",
            "Epoch 3 Batch 200 Loss 0.9316 Acc:0.5511\n",
            "Epoch 3 Batch 300 Loss 0.8914 Acc:0.5702\n",
            "Time taken for 1 epoch 18.0217 sec\n",
            "\n",
            "Epoch 4 Batch 0 Loss 0.8206 Acc:0.5441\n",
            "Epoch 4 Batch 100 Loss 0.8494 Acc:0.5296\n",
            "Epoch 4 Batch 200 Loss 0.8176 Acc:0.5791\n",
            "Epoch 4 Batch 300 Loss 0.8320 Acc:0.6006\n",
            "Time taken for 1 epoch 18.4268 sec\n",
            "\n",
            "Epoch 5 Batch 0 Loss 0.6019 Acc:0.6121\n",
            "Epoch 5 Batch 100 Loss 0.6785 Acc:0.5966\n",
            "Epoch 5 Batch 200 Loss 0.6714 Acc:0.5916\n",
            "Epoch 5 Batch 300 Loss 0.6294 Acc:0.6353\n",
            "Time taken for 1 epoch 18.0812 sec\n",
            "\n",
            "Epoch 6 Batch 0 Loss 0.5167 Acc:0.6799\n",
            "Epoch 6 Batch 100 Loss 0.5865 Acc:0.6218\n",
            "Epoch 6 Batch 200 Loss 0.5979 Acc:0.6359\n",
            "Epoch 6 Batch 300 Loss 0.5941 Acc:0.6254\n",
            "Time taken for 1 epoch 18.4235 sec\n",
            "\n",
            "Epoch 7 Batch 0 Loss 0.4279 Acc:0.6982\n",
            "Epoch 7 Batch 100 Loss 0.4589 Acc:0.6667\n",
            "Epoch 7 Batch 200 Loss 0.4725 Acc:0.6686\n",
            "Epoch 7 Batch 300 Loss 0.5065 Acc:0.6629\n",
            "Time taken for 1 epoch 18.0217 sec\n",
            "\n",
            "Epoch 8 Batch 0 Loss 0.3616 Acc:0.7645\n",
            "Epoch 8 Batch 100 Loss 0.3803 Acc:0.7303\n",
            "Epoch 8 Batch 200 Loss 0.3841 Acc:0.7312\n",
            "Epoch 8 Batch 300 Loss 0.3862 Acc:0.7089\n",
            "Time taken for 1 epoch 18.4193 sec\n",
            "\n",
            "Epoch 9 Batch 0 Loss 0.3144 Acc:0.7536\n",
            "Epoch 9 Batch 100 Loss 0.3314 Acc:0.7542\n",
            "Epoch 9 Batch 200 Loss 0.3488 Acc:0.7486\n",
            "Epoch 9 Batch 300 Loss 0.3702 Acc:0.7376\n",
            "Time taken for 1 epoch 17.9755 sec\n",
            "\n",
            "Epoch 10 Batch 0 Loss 0.2432 Acc:0.8267\n",
            "Epoch 10 Batch 100 Loss 0.3011 Acc:0.7670\n",
            "Epoch 10 Batch 200 Loss 0.2793 Acc:0.7859\n",
            "Epoch 10 Batch 300 Loss 0.3151 Acc:0.7611\n",
            "Time taken for 1 epoch 18.2069 sec\n",
            "\n",
            "Epoch 11 Batch 0 Loss 0.2175 Acc:0.8284\n",
            "Epoch 11 Batch 100 Loss 0.2827 Acc:0.7713\n",
            "Epoch 11 Batch 200 Loss 0.2539 Acc:0.8164\n",
            "Epoch 11 Batch 300 Loss 0.2557 Acc:0.8113\n",
            "Time taken for 1 epoch 17.6386 sec\n",
            "\n",
            "Epoch 12 Batch 0 Loss 0.1830 Acc:0.8397\n",
            "Epoch 12 Batch 100 Loss 0.2083 Acc:0.8328\n",
            "Epoch 12 Batch 200 Loss 0.2053 Acc:0.8363\n",
            "Epoch 12 Batch 300 Loss 0.2264 Acc:0.8329\n",
            "Time taken for 1 epoch 18.3431 sec\n",
            "\n",
            "Epoch 13 Batch 0 Loss 0.1433 Acc:0.8818\n",
            "Epoch 13 Batch 100 Loss 0.2125 Acc:0.8309\n",
            "Epoch 13 Batch 200 Loss 0.2083 Acc:0.8232\n",
            "Epoch 13 Batch 300 Loss 0.2117 Acc:0.8204\n",
            "Time taken for 1 epoch 17.7704 sec\n",
            "\n",
            "Epoch 14 Batch 0 Loss 0.1662 Acc:0.8778\n",
            "Epoch 14 Batch 100 Loss 0.1908 Acc:0.8453\n",
            "Epoch 14 Batch 200 Loss 0.1496 Acc:0.8769\n",
            "Epoch 14 Batch 300 Loss 0.1982 Acc:0.8409\n",
            "Time taken for 1 epoch 17.9961 sec\n",
            "\n",
            "Epoch 15 Batch 0 Loss 0.1280 Acc:0.8721\n",
            "Epoch 15 Batch 100 Loss 0.1440 Acc:0.8905\n",
            "Epoch 15 Batch 200 Loss 0.1460 Acc:0.8743\n",
            "Epoch 15 Batch 300 Loss 0.2057 Acc:0.8547\n",
            "Time taken for 1 epoch 17.6115 sec\n",
            "\n"
          ],
          "name": "stdout"
        }
      ]
    },
    {
      "cell_type": "code",
      "metadata": {
        "colab": {
          "base_uri": "https://localhost:8080/",
          "height": 336
        },
        "id": "RSi9wczP2MOT",
        "outputId": "b1a6e76a-9ecd-407c-9381-056884bd700f"
      },
      "source": [
        "fig, (ax1, ax2) = plt.subplots(1, 2, figsize=(15,5))\n",
        "# plot some data\n",
        "ax1.plot(losses, label='loss')\n",
        "#plt.plot(results.history['val_loss'], label='val_loss')\n",
        "ax1.set_title('Training Loss')\n",
        "ax1.legend()\n",
        "# accuracies\n",
        "ax2.plot(accuracies, label='acc')\n",
        "#plt.plot(results.history['val_accuracy_fn'], label='val_acc')\n",
        "ax2.set_title('Training Accuracy')\n",
        "ax2.legend()\n",
        "plt.show()"
      ],
      "execution_count": null,
      "outputs": [
        {
          "output_type": "display_data",
          "data": {
            "image/png": "[encoded data removed]",
            "text/plain": [
              "<Figure size 1080x360 with 2 Axes>"
            ]
          },
          "metadata": {
            "tags": [],
            "needs_background": "light"
          }
        }
      ]
    },
    {
      "cell_type": "code",
      "metadata": {
        "colab": {
          "base_uri": "https://localhost:8080/"
        },
        "id": "ey_7hhtw2tfy",
        "outputId": "09576f8a-fa46-434a-ed04-b87bf3d8cb7d"
      },
      "source": [
        "checkpoint_dir = './training_ckpt_seq2seq'\n",
        "checkpoint_prefix = os.path.join(checkpoint_dir, \"ckpt\")\n",
        "checkpoint.restore(tf.train.latest_checkpoint(checkpoint_dir))"
      ],
      "execution_count": null,
      "outputs": [
        {
          "output_type": "execute_result",
          "data": {
            "text/plain": [
              "<tensorflow.python.training.tracking.util.CheckpointLoadStatus at 0x7f77f0099750>"
            ]
          },
          "metadata": {
            "tags": []
          },
          "execution_count": 25
        }
      ]
    },
    {
      "cell_type": "code",
      "metadata": {
        "id": "YS0rDxLf2xuy"
      },
      "source": [
        "def predict(input_text,input_max_len, tokenizer_inputs, word2idx_outputs, idx2word_outputs):\n",
        "    if input_text is None:\n",
        "        input_text = input_data[np.random.choice(len(input_data))]\n",
        "    print(input_text)\n",
        "    # Tokenize the input sequence\n",
        "    input_seq = tokenizer_inputs.texts_to_sequences([input_text])\n",
        "    # Pad the sentence\n",
        "    input_seq = pad_sequences(input_seq, maxlen=input_max_len, padding='post')\n",
        "    print(input_seq)\n",
        "    # Set the encoder initial state\n",
        "    en_initial_states = encoder.init_states(1)\n",
        "    en_outputs = encoder(tf.constant(input_seq), en_initial_states)\n",
        "    # Create the decoder input, the sos token\n",
        "    de_input = tf.constant([[word2idx_outputs['<sos>']]])\n",
        "    # Set the decoder states to the encoder vector or encoder hidden state\n",
        "    de_state_h, de_state_c = en_outputs[1:]\n",
        "    \n",
        "    out_words = []\n",
        "    while True:\n",
        "        # Decode and get the output probabilities\n",
        "        de_output, de_state_h, de_state_c = decoder(\n",
        "            de_input, (de_state_h, de_state_c))\n",
        "        # Select the word with the highest probability\n",
        "        de_input = tf.argmax(de_output, -1)\n",
        "        # Append the word to the predicted output\n",
        "        out_words.append(idx2word_outputs[de_input.numpy()[0][0]])\n",
        "        # Finish when eos token is found or the max length is reached\n",
        "        if out_words[-1] == '<eos>' or len(out_words) >= 20:\n",
        "            break\n",
        "\n",
        "    print(' '.join(out_words))"
      ],
      "execution_count": null,
      "outputs": []
    },
    {
      "cell_type": "code",
      "metadata": {
        "colab": {
          "base_uri": "https://localhost:8080/"
        },
        "id": "gEznn1Yc3sOG",
        "outputId": "abf2fc06-3147-4253-ddb9-0fd1953d291b"
      },
      "source": [
        "predict(None,input_max_len,tokenizer_inputs, word2idx_outputs, idx2word_outputs)"
      ],
      "execution_count": null,
      "outputs": [
        {
          "output_type": "stream",
          "text": [
            "i m the bad one .\n",
            "[[  2  13  14 127  71   1   0   0]]\n",
            "soy el malo . <eos>\n"
          ],
          "name": "stdout"
        }
      ]
    },
    {
      "cell_type": "code",
      "metadata": {
        "colab": {
          "base_uri": "https://localhost:8080/"
        },
        "id": "yONbN90VhGYA",
        "outputId": "ae2fda61-ae34-4d29-d1a5-6ce321060210"
      },
      "source": [
        "predict(input_data[17829],input_max_len,tokenizer_inputs, word2idx_outputs, idx2word_outputs)"
      ],
      "execution_count": null,
      "outputs": [
        {
          "output_type": "stream",
          "text": [
            "i m not dead , am i ?\n",
            "[[  2  13  33 302  49  59   2   5]]\n",
            "no estoy muerto , ¿ no ? <eos>\n"
          ],
          "name": "stdout"
        }
      ]
    },
    {
      "cell_type": "code",
      "metadata": {
        "id": "CsC5VJRFBHMB"
      },
      "source": [
        "#Will use this in the new Decoder class\n",
        "\n",
        "class LuongAttention(tf.keras.Model):\n",
        "    def __init__(self, hidden_dim, attention_func):\n",
        "        super(LuongAttention, self).__init__()\n",
        "        self.attention_func = attention_func\n",
        "\n",
        "        if attention_func not in ['dot', 'general', 'concat']:\n",
        "            raise ValueError(\n",
        "                'Attention score must be either dot, general or concat.')\n",
        "\n",
        "        if attention_func == 'general':\n",
        "            # General score function\n",
        "            self.wa = tf.keras.layers.Dense(hidden_dim) \n",
        "        elif attention_func == 'concat':\n",
        "            # Concat score function\n",
        "            self.wa = tf.keras.layers.Dense(hidden_dim, activation='tanh')\n",
        "            self.va = tf.keras.layers.Dense(1)\n",
        "\n",
        "\n",
        "    def call(self,decoder_output,encoder_outputs):\n",
        "      #We use the decoder output(hidden state) from one unit at a time & use it along with ALL encoder outputs \n",
        "      # Since we use all encoder outputs we are using Global Attention\n",
        "      if self.attention_func == 'dot':\n",
        "            # Dot score function: decoder_output (dot) encoder_output\n",
        "            # decoder_output has shape: (batch_size, 1, hidden_dim)\n",
        "            # encoder_outputs has shape: (batch_size, max_len, hidden_dim)\n",
        "            score = tf.matmul(decoder_output, encoder_outputs, transpose_b=True) # (batch_size, 1, max_len)\n",
        "            #So what does this mean? The score for each unit that we have in the encoder i.e encoder quality \n",
        "      elif self.attention_func == 'general':\n",
        "          # General score function: decoder_output (dot) (Wa (dot) encoder_output)\n",
        "          # Dense layer doesn't change dims of encoder_output since we use Dense(hidden_dim)\n",
        "          # decoder_output has shape: (batch_size, 1, hidden_dim)\n",
        "          # encoder_output has shape: (batch_size, max_len, hidden_dim)\n",
        "          score = tf.matmul(decoder_output, self.wa(encoder_outputs), transpose_b=True) #(batch_size, 1, max_len)\n",
        "      elif self.attention_func == 'concat':\n",
        "          # Concat score function: va (dot) tanh(Wa (dot) concat(decoder_output + encoder_output))\n",
        "          # Decoder output must be broadcasted to encoder output's shape first\n",
        "          # tf.tile's second argument [1, encoder_output.shape[1], 1] basically multiplies \n",
        "          # decoder_output's current dimensions position wise by the numbers in the second argument\n",
        "          decoder_output = tf.tile(decoder_output, [1, encoder_outputs.shape[1], 1]) #shape (batch size, max len,hidden_dim)\n",
        "\n",
        "          # Concat => Wa => va\n",
        "          # (batch_size, max_len, 2 * hidden_dim) => (batch_size, max_len, hidden_dim) => (batch_size, max_len, 1)\n",
        "\n",
        "          score = self.va(self.wa(tf.concat((decoder_output, encoder_outputs), axis=-1))) # (batch_size, max len, 1)\n",
        "\n",
        "          # Transpose score vector to have the same shape as other two above\n",
        "          # (batch_size, max_len, 1) => (batch_size, 1, max_len)\n",
        "          score = tf.transpose(score, [0, 2, 1]) #(batch_size, 1, max_len)\n",
        "\n",
        "        # alignment a_t = softmax(score), focuses where to pay attention in the sentence \n",
        "      alignment = tf.keras.activations.softmax(score, axis=-1) #(batch_size, 1, max_len)\n",
        "      \n",
        "      # context vector c_t is the weighted average sum of encoder outputs, score the hidden states\n",
        "      # since each encoder hidden states is most associated with a certain word in the input sentence\n",
        "      #(batch_size, 1, max_len) X (batch_size, max_len , hidden_dim)\n",
        "      context = tf.matmul(alignment, encoder_outputs) # (batch_size, 1, hidden_dim)\n",
        "\n",
        "      return context, alignment\n"
      ],
      "execution_count": null,
      "outputs": []
    },
    {
      "cell_type": "code",
      "metadata": {
        "id": "gm3MCK1HGMSK"
      },
      "source": [
        "class Decoder(tf.keras.Model):\n",
        "  def __init__(self,vocab_size, embedding_dim, hidden_dim, attention_func):\n",
        "    super(Decoder,self).__init__()\n",
        "    self.attention = LuongAttention(hidden_dim, attention_func)\n",
        "    self.hidden_dim = hidden_dim\n",
        "    self.embedding = tf.keras.layers.Embedding(vocab_size, embedding_dim)\n",
        "    self.lstm = tf.keras.layers.LSTM(hidden_dim, return_sequences=True, return_state=True)\n",
        "    self.wc = tf.keras.layers.Dense(hidden_dim, activation='tanh')\n",
        "    self.ws = tf.keras.layers.Dense(vocab_size)\n",
        "\n",
        "  def call(self,input_sequence_word,state_for_this_unit,encoder_outputs):\n",
        "      # Remember that the input to the decoder\n",
        "      # is now a batch of one-word sequences,\n",
        "      # which means that its shape is (batch_size, 1)\n",
        "      embed = self.embedding(input_sequence_word)\n",
        "\n",
        "      # Therefore, the lstm_out has shape (batch_size, 1, hidden_dim)\n",
        "      lstm_out, state_h, state_c = self.lstm(embed, initial_state=state_for_this_unit)\n",
        "\n",
        "      # Use self.attention to compute the context and alignment vectors\n",
        "      # context vector's shape: (batch_size, 1, hidden_dim)\n",
        "      # alignment vector's shape: (batch_size, 1, source_length)\n",
        "      context, alignment = self.attention(lstm_out, encoder_outputs)\n",
        "\n",
        "      # Combine the context vector and the LSTM output\n",
        "      # Before combined, both have shape of (batch_size, 1, hidden_dim),\n",
        "      # so let's squeeze the axis 1 first\n",
        "      # After combined, it will have shape of (batch_size, 2 * hidden_dim)\n",
        "\n",
        "      lstm_out = tf.concat([tf.squeeze(context, 1), tf.squeeze(lstm_out, 1)], axis=1)\n",
        "\n",
        "      # lstm_out now has shape (batch_size, hidden_dim), because we passed it through a dense layer of size (hidden_dim)\n",
        "      lstm_out = self.wc(lstm_out)\n",
        "\n",
        "      # Finally, it is converted back to vocabulary space: (batch_size, vocab_size)\n",
        "      logits = self.ws(lstm_out)\n",
        "\n",
        "      return logits, state_h, state_c, alignment"
      ],
      "execution_count": null,
      "outputs": []
    },
    {
      "cell_type": "code",
      "metadata": {
        "id": "ZOy6tJiTI9Aw"
      },
      "source": [
        "@tf.function\n",
        "def train_step(input_seq, target_seq_in, target_seq_out, en_initial_states, optimizer):\n",
        "    ''' A training step, train a batch of the data and return the loss value reached\n",
        "        Input:\n",
        "        - input_seq: array of integers, shape [batch_size, max_seq_len].\n",
        "            the input sequence\n",
        "        - target_seq_out: array of integers, shape [batch_size, max_seq_len].\n",
        "            the target seq, our target sequence\n",
        "        - target_seq_in: array of integers, shape [batch_size, max_seq_len].\n",
        "            the input sequence to the decoder, we use Teacher Forcing\n",
        "        - en_initial_states: tuple of 2 arrays of shape [batch_size, hidden_dim] each.\n",
        "            the initial state of the encoder for h & c state\n",
        "        - optimizer: a tf.keras.optimizers.\n",
        "        Output:\n",
        "        - loss: loss value\n",
        "        \n",
        "    '''\n",
        "    loss = 0.\n",
        "    acc = 0.\n",
        "    logits = None\n",
        "    \n",
        "    with tf.GradientTape() as tape:\n",
        "        en_outputs = encoder(input_seq, en_initial_states)\n",
        "        en_states = en_outputs[1:]\n",
        "        de_state_h, de_state_c = en_states\n",
        "\n",
        "        # We need to create a loop to iterate through the target sequences\n",
        "        #For attention for each word in the output we score all the encoder outputs\n",
        "        # to see which ones we should pay attention to for our current word\n",
        "        # Loop through all our words in our target sequence to see which words in the \n",
        "        # input sequence matter\n",
        "        # Note that the decoder states (h & c) are getting updated after every unit predicts a logit\n",
        "        for i in range(target_seq_out.shape[1]):\n",
        "            # Input to the decoder must have shape of (batch_size, 1)\n",
        "            # so we need to expand one dimension\n",
        "            # as target_seq_in[:, i] gives us a shape (batch_size,)\n",
        "            decoder_in = tf.expand_dims(target_seq_in[:, i], 1)\n",
        "\n",
        "            #Passing all encoder outputs since we use GLOBAL ATTENTION\n",
        "\n",
        "            logit, de_state_h, de_state_c, _ = decoder(decoder_in, (de_state_h, de_state_c), en_outputs[0])\n",
        "\n",
        "            # The loss is now accumulated through the whole batch\n",
        "            loss += loss_func(target_seq_out[:, i], logit)\n",
        "            # Store the logits to calculate the accuracy\n",
        "            # Adds a shape of 1 at position axis\n",
        "            logit = K.expand_dims(logit, axis=1)\n",
        "\n",
        "            #Now we need to concatenate logit max_len times to get logits for all the whole sequences in the batch\n",
        "            #This concatenation needs to happen target_seq_out.shape[1] times\n",
        "            if logits is None:\n",
        "                logits = logit\n",
        "            else:\n",
        "                logits = K.concatenate((logits,logit), axis=1) \n",
        "        # After the loop logits' shape is batch_size,max_len,vocab_size\n",
        "\n",
        "        # Calculate the accuracy for the batch data        \n",
        "        acc = accuracy_fn(target_seq_out, logits)\n",
        "    # Update the parameters and the optimizer\n",
        "    variables = encoder.trainable_variables + decoder.trainable_variables\n",
        "    gradients = tape.gradient(loss, variables)\n",
        "    optimizer.apply_gradients(zip(gradients, variables))\n",
        "\n",
        "    #Normalise by max_len since we performed loss addition max_len times\n",
        "    return loss / target_seq_out.shape[1], acc\n"
      ],
      "execution_count": null,
      "outputs": []
    },
    {
      "cell_type": "code",
      "metadata": {
        "id": "D-Xu-LT8OF4v"
      },
      "source": [
        "#Set the length of the input and output vocabulary\n",
        "num_words_inputs = len(word2idx_inputs) + 1\n",
        "num_words_output = len(word2idx_outputs) + 1\n",
        "#Create the encoder\n",
        "encoder = Encoder(num_words_inputs, EMBEDDING_DIM, HIDDEN_DIM)\n",
        "decoder = Decoder(num_words_output, EMBEDDING_DIM, HIDDEN_DIM, ATTENTION_FUNC)"
      ],
      "execution_count": null,
      "outputs": []
    },
    {
      "cell_type": "code",
      "metadata": {
        "colab": {
          "base_uri": "https://localhost:8080/"
        },
        "id": "-R8484WKNUCJ",
        "outputId": "af480301-e422-40bd-d508-66094541ba59"
      },
      "source": [
        "# Create an Adam optimizer and clips gradients by norm\n",
        "optimizer = tf.keras.optimizers.Adam(clipnorm=5.0)\n",
        "# Create a checkpoint object to save the model\n",
        "checkpoint_dir = './training_ckpt_seq2seq_att'\n",
        "checkpoint_prefix = os.path.join(checkpoint_dir, \"ckpt\")\n",
        "checkpoint = tf.train.Checkpoint(optimizer=optimizer,\n",
        "                                 encoder=encoder,\n",
        "                                 decoder=decoder)\n",
        "\n",
        "losses, accuracies = main_train(encoder, decoder, dataset, EPOCHS, BATCH_SIZE, optimizer, checkpoint, checkpoint_prefix)"
      ],
      "execution_count": null,
      "outputs": [
        {
          "output_type": "stream",
          "text": [
            "Epoch 1 Batch 0 Loss 3.1812 Acc:0.0000\n",
            "Epoch 1 Batch 100 Loss 1.4280 Acc:0.4260\n",
            "Epoch 1 Batch 200 Loss 1.3252 Acc:0.4694\n",
            "Epoch 1 Batch 300 Loss 1.1876 Acc:0.4970\n",
            "Time taken for 1 epoch 63.9046 sec\n",
            "\n",
            "Epoch 2 Batch 0 Loss 1.1672 Acc:0.4986\n",
            "Epoch 2 Batch 100 Loss 1.1059 Acc:0.4986\n",
            "Epoch 2 Batch 200 Loss 1.0303 Acc:0.5521\n",
            "Epoch 2 Batch 300 Loss 0.9463 Acc:0.5629\n",
            "Time taken for 1 epoch 45.3632 sec\n",
            "\n",
            "Epoch 3 Batch 0 Loss 0.8610 Acc:0.5756\n",
            "Epoch 3 Batch 100 Loss 0.8298 Acc:0.5718\n",
            "Epoch 3 Batch 200 Loss 0.7408 Acc:0.6214\n",
            "Epoch 3 Batch 300 Loss 0.8227 Acc:0.6103\n",
            "Time taken for 1 epoch 44.6213 sec\n",
            "\n",
            "Epoch 4 Batch 0 Loss 0.6127 Acc:0.6706\n",
            "Epoch 4 Batch 100 Loss 0.6424 Acc:0.6182\n",
            "Epoch 4 Batch 200 Loss 0.5868 Acc:0.6725\n",
            "Epoch 4 Batch 300 Loss 0.6103 Acc:0.6676\n",
            "Time taken for 1 epoch 45.2716 sec\n",
            "\n",
            "Epoch 5 Batch 0 Loss 0.4458 Acc:0.7362\n",
            "Epoch 5 Batch 100 Loss 0.4795 Acc:0.6805\n",
            "Epoch 5 Batch 200 Loss 0.4697 Acc:0.7207\n",
            "Epoch 5 Batch 300 Loss 0.4345 Acc:0.7400\n",
            "Time taken for 1 epoch 44.4287 sec\n",
            "\n",
            "Epoch 6 Batch 0 Loss 0.3620 Acc:0.7592\n",
            "Epoch 6 Batch 100 Loss 0.3428 Acc:0.7464\n",
            "Epoch 6 Batch 200 Loss 0.3439 Acc:0.7795\n",
            "Epoch 6 Batch 300 Loss 0.3978 Acc:0.7435\n",
            "Time taken for 1 epoch 44.7984 sec\n",
            "\n",
            "Epoch 7 Batch 0 Loss 0.2550 Acc:0.7965\n",
            "Epoch 7 Batch 100 Loss 0.3057 Acc:0.7917\n",
            "Epoch 7 Batch 200 Loss 0.2542 Acc:0.8309\n",
            "Epoch 7 Batch 300 Loss 0.3411 Acc:0.7611\n",
            "Time taken for 1 epoch 44.3718 sec\n",
            "\n",
            "Epoch 8 Batch 0 Loss 0.2306 Acc:0.8227\n",
            "Epoch 8 Batch 100 Loss 0.2248 Acc:0.8669\n",
            "Epoch 8 Batch 200 Loss 0.2853 Acc:0.8235\n",
            "Epoch 8 Batch 300 Loss 0.2641 Acc:0.8179\n",
            "Time taken for 1 epoch 44.7794 sec\n",
            "\n",
            "Epoch 9 Batch 0 Loss 0.1909 Acc:0.8547\n",
            "Epoch 9 Batch 100 Loss 0.1765 Acc:0.8687\n",
            "Epoch 9 Batch 200 Loss 0.2080 Acc:0.8333\n",
            "Epoch 9 Batch 300 Loss 0.2313 Acc:0.8543\n",
            "Time taken for 1 epoch 44.2486 sec\n",
            "\n",
            "Epoch 10 Batch 0 Loss 0.1061 Acc:0.9193\n",
            "Epoch 10 Batch 100 Loss 0.1751 Acc:0.8627\n",
            "Epoch 10 Batch 200 Loss 0.1716 Acc:0.8459\n",
            "Epoch 10 Batch 300 Loss 0.1993 Acc:0.8614\n",
            "Time taken for 1 epoch 45.0286 sec\n",
            "\n",
            "Epoch 11 Batch 0 Loss 0.1405 Acc:0.8870\n",
            "Epoch 11 Batch 100 Loss 0.1512 Acc:0.8663\n",
            "Epoch 11 Batch 200 Loss 0.2145 Acc:0.8319\n",
            "Epoch 11 Batch 300 Loss 0.1714 Acc:0.8643\n",
            "Time taken for 1 epoch 44.4978 sec\n",
            "\n",
            "Epoch 12 Batch 0 Loss 0.1424 Acc:0.8883\n",
            "Epoch 12 Batch 100 Loss 0.1240 Acc:0.9088\n",
            "Epoch 12 Batch 200 Loss 0.1643 Acc:0.8854\n",
            "Epoch 12 Batch 300 Loss 0.1877 Acc:0.8652\n",
            "Time taken for 1 epoch 45.0404 sec\n",
            "\n",
            "Epoch 13 Batch 0 Loss 0.1187 Acc:0.9139\n",
            "Epoch 13 Batch 100 Loss 0.1259 Acc:0.9088\n",
            "Epoch 13 Batch 200 Loss 0.1589 Acc:0.8895\n",
            "Epoch 13 Batch 300 Loss 0.1404 Acc:0.8779\n",
            "Time taken for 1 epoch 44.3306 sec\n",
            "\n",
            "Epoch 14 Batch 0 Loss 0.0941 Acc:0.9157\n",
            "Epoch 14 Batch 100 Loss 0.1137 Acc:0.9181\n",
            "Epoch 14 Batch 200 Loss 0.1616 Acc:0.8642\n",
            "Epoch 14 Batch 300 Loss 0.1802 Acc:0.8521\n",
            "Time taken for 1 epoch 44.8383 sec\n",
            "\n",
            "Epoch 15 Batch 0 Loss 0.1163 Acc:0.9140\n",
            "Epoch 15 Batch 100 Loss 0.1036 Acc:0.9200\n",
            "Epoch 15 Batch 200 Loss 0.1377 Acc:0.8783\n",
            "Epoch 15 Batch 300 Loss 0.1687 Acc:0.8841\n",
            "Time taken for 1 epoch 44.3942 sec\n",
            "\n"
          ],
          "name": "stdout"
        }
      ]
    },
    {
      "cell_type": "code",
      "metadata": {
        "id": "73gdjGP-NdEc"
      },
      "source": [
        "\n",
        "def predict_seq2seq_att(input_text, input_max_len, tokenizer_inputs, word2idx_outputs, idx2word_outputs):\n",
        "    if input_text is None:\n",
        "        input_text = input_data[np.random.choice(len(input_data))]\n",
        "    print(input_text)\n",
        "    # Tokenize the input text\n",
        "    input_seq = tokenizer_inputs.texts_to_sequences([input_text])\n",
        "    # Pad the sentence\n",
        "    input_seq = pad_sequences(input_seq, maxlen=input_max_len, padding='post')\n",
        "    # Get the encoder initial states\n",
        "    en_initial_states = encoder.init_states(1)\n",
        "    # Get the encoder outputs or hidden states\n",
        "    en_outputs = encoder(tf.constant(input_seq), en_initial_states)\n",
        "    # Set the decoder input to the sos token\n",
        "    de_input = tf.constant([[word2idx_outputs['<sos>']]])\n",
        "    # Set the initial hidden states of the decoder to the hidden states of the encoder\n",
        "    de_state_h, de_state_c = en_outputs[1:]\n",
        "    \n",
        "    out_words = []\n",
        "    alignments = []\n",
        "\n",
        "    while True:\n",
        "        # Get the decoder with attention output\n",
        "        de_output, de_state_h, de_state_c, alignment = decoder(\n",
        "            de_input, (de_state_h, de_state_c), en_outputs[0])\n",
        "        de_input = tf.expand_dims(tf.argmax(de_output, -1), 0)\n",
        "        # Detokenize the output\n",
        "        out_words.append(idx2word_outputs[de_input.numpy()[0][0]])\n",
        "        # Save the aligment matrix\n",
        "        alignments.append(alignment.numpy())\n",
        "\n",
        "        if out_words[-1] == '<eos>' or len(out_words) >= 20:\n",
        "            break\n",
        "    # Join the output words\n",
        "    print(' '.join(out_words))\n",
        "    return np.array(alignments), input_text.split(' '), out_words"
      ],
      "execution_count": null,
      "outputs": []
    },
    {
      "cell_type": "code",
      "metadata": {
        "colab": {
          "base_uri": "https://localhost:8080/",
          "height": 702
        },
        "id": "dvxsaeebP11r",
        "outputId": "370c0856-b363-4514-839e-f1afab8ac6db"
      },
      "source": [
        "n_predictions=1\n",
        "test_sents = input_data[15005:(15005+n_predictions)]\n",
        "\n",
        "# Create the figure to plot in\n",
        "fig = plt.figure(figsize=(10, 20))\n",
        "for i, test_sent in enumerate(test_sents):\n",
        "    # Call the predict function to get the translation\n",
        "    alignments, source, prediction = predict_seq2seq_att(test_sent, input_max_len, tokenizer_inputs, \n",
        "                                                     word2idx_outputs, idx2word_outputs)\n",
        "    \n",
        "    print(\"Alignmnets before squeezing\")\n",
        "    print(alignments.shape)\n",
        "    attention = np.squeeze(alignments, (1, 2))\n",
        "\n",
        "    print(source)\n",
        "    print(prediction)\n",
        "\n",
        "    print(\"Alignmnets after squeezing\")\n",
        "    print(attention.shape)\n",
        "\n",
        "    \n",
        "\n",
        "\n",
        "    # Create a subplot\n",
        "    ax = fig.add_subplot(1, n_predictions, i+1)\n",
        "    cax=ax.matshow(attention[:len(prediction), :len(source)], cmap='viridis')\n",
        "    fig.colorbar(cax,fraction=0.046, pad=0.04)\n",
        "\n",
        "    ax.set_xticklabels([''] + source)\n",
        "    ax.set_yticklabels([''] + prediction)\n",
        "\n",
        "    for (i, j), z in np.ndenumerate(attention[:len(prediction), :len(source)]):\n",
        "      ax.text(j, i, '{:0.2f}'.format(z), ha='center', va='center')\n",
        "\n",
        "plt.show()"
      ],
      "execution_count": null,
      "outputs": [
        {
          "output_type": "stream",
          "text": [
            "she got him drunk .\n",
            "ella se apresurada . <eos>\n",
            "Alignmnets before squeezing\n",
            "(5, 1, 1, 8)\n",
            "['she', 'got', 'him', 'drunk', '.']\n",
            "['ella', 'se', 'apresurada', '.', '<eos>']\n",
            "Alignmnets after squeezing\n",
            "(5, 8)\n"
          ],
          "name": "stdout"
        },
        {
          "output_type": "display_data",
          "data": {
            "image/png": "[encoded data removed]",
            "text/plain": [
              "<Figure size 720x1440 with 2 Axes>"
            ]
          },
          "metadata": {
            "tags": [],
            "needs_background": "light"
          }
        }
      ]
    },
    {
      "cell_type": "code",
      "metadata": {
        "colab": {
          "base_uri": "https://localhost:8080/",
          "height": 957
        },
        "id": "0a_19fYYd7eb",
        "outputId": "54e09d7a-dbbf-45ad-f17a-3129d07c9242"
      },
      "source": [
        "n_predictions=1\n",
        "test_sents = [input_data[17829]]\n",
        "\n",
        "# Create the figure to plot in\n",
        "fig = plt.figure(figsize=(15, 20))\n",
        "for i, test_sent in enumerate(test_sents):\n",
        "    # Call the predict function to get the translation\n",
        "    alignments, source, prediction = predict_seq2seq_att(test_sent, input_max_len, tokenizer_inputs, \n",
        "                                                     word2idx_outputs, idx2word_outputs)\n",
        "    \n",
        "    print(\"Alignmnets before squeezing\")\n",
        "    print(alignments.shape)\n",
        "    attention = np.squeeze(alignments, (1, 2))\n",
        "\n",
        "    print(source)\n",
        "    print(prediction)\n",
        "\n",
        "    print(\"Alignmnets after squeezing\")\n",
        "    print(attention.shape)\n",
        "\n",
        "    \n",
        "\n",
        "\n",
        "    # Create a subplot\n",
        "    ax = fig.add_subplot(1, n_predictions, i+1)\n",
        "    cax=ax.matshow(attention[:len(prediction), :len(source)], cmap='viridis')\n",
        "    fig.colorbar(cax,fraction=0.046, pad=0.04)\n",
        "\n",
        "    ax.set_xticklabels([''] + source)\n",
        "    ax.set_yticklabels([''] + prediction)\n",
        "\n",
        "    for (i, j), z in np.ndenumerate(attention[:len(prediction), :len(source)]):\n",
        "      ax.text(j, i, '{:0.2f}'.format(z), ha='center', va='center')\n",
        "\n",
        "plt.show()"
      ],
      "execution_count": null,
      "outputs": [
        {
          "output_type": "stream",
          "text": [
            "i m not dead , am i ?\n",
            "no estoy muerto , ¿ no ? <eos>\n",
            "Alignmnets before squeezing\n",
            "(8, 1, 1, 8)\n",
            "['i', 'm', 'not', 'dead', ',', 'am', 'i', '?']\n",
            "['no', 'estoy', 'muerto', ',', '¿', 'no', '?', '<eos>']\n",
            "Alignmnets after squeezing\n",
            "(8, 8)\n"
          ],
          "name": "stdout"
        },
        {
          "output_type": "display_data",
          "data": {
            "image/png": "[encoded data removed]",
            "text/plain": [
              "<Figure size 1080x1440 with 2 Axes>"
            ]
          },
          "metadata": {
            "tags": [],
            "needs_background": "light"
          }
        }
      ]
    }
  ]
}